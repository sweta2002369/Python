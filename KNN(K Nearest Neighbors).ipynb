{
 "cells": [
  {
   "cell_type": "markdown",
   "id": "34d796ff",
   "metadata": {},
   "source": [
    "KNN can be used for both classification and regression"
   ]
  },
  {
   "cell_type": "markdown",
   "id": "38b4fc9f",
   "metadata": {},
   "source": [
    "1st\n",
    "for 3 nearest neighbor the unknown obj is predicted as star(2 star and one circle)\n",
    "\n",
    "but for 5 nearest neighbor the unknown obj is predicted as (3 circled and 2 star)"
   ]
  },
  {
   "cell_type": "markdown",
   "id": "750a2324",
   "metadata": {},
   "source": [
    "regression \n",
    "\n",
    "each * represents  a value\n",
    "suppose k=3 then value of unknown obj = mean of all 3 nearest values\n",
    "\n",
    "k= no of nearest neighbors"
   ]
  },
  {
   "cell_type": "raw",
   "id": "4ac9fc1c",
   "metadata": {},
   "source": [
    "# how to find nearest neighbor\n",
    " 2 types of distance\n",
    " a.Euclidian distance\n",
    " b.Manhotttan distance"
   ]
  },
  {
   "cell_type": "code",
   "execution_count": null,
   "id": "9b09df98",
   "metadata": {},
   "outputs": [],
   "source": [
    "How to choose value of K \n",
    "1.K must be odd\n",
    "2.k <= sqrt(n)   ---- n=no of sample\n",
    "3.k must be multiple of no of categories\n"
   ]
  },
  {
   "cell_type": "code",
   "execution_count": null,
   "id": "98566601",
   "metadata": {},
   "outputs": [],
   "source": [
    "study hr      sleep hr      result\n",
    "----------------------------------\n",
    "7              8             p\n",
    "4              10            f\n",
    "9              7             p\n",
    "3              9             f\n",
    "6              8             p\n",
    "5              10            f"
   ]
  },
  {
   "cell_type": "code",
   "execution_count": null,
   "id": "642b4d76",
   "metadata": {},
   "outputs": [],
   "source": [
    "find the result of a student with study hour=4 and sleep hour=9\n",
    "use knn =3"
   ]
  },
  {
   "cell_type": "code",
   "execution_count": null,
   "id": "1230ad08",
   "metadata": {},
   "outputs": [],
   "source": [
    "d1((4-7)**2+(9-8))"
   ]
  },
  {
   "cell_type": "code",
   "execution_count": null,
   "id": "28514123",
   "metadata": {},
   "outputs": [],
   "source": [
    "d1= ((4-7)**2 +(9-8)**2)**0.5=3.162\n",
    "#d2=((4-4)**2 +(9-10)**2)**0.5 =1.0\n",
    "d3=((4-9)**2 +(9-7)**2)**0.5 =5.3\n",
    "#d4=((4-3)**2 +(9-9)**2)**0.5=1.0\n",
    "d5=((4-6)**2 +(9-8)**2)**0.5 =2.23\n",
    "#d6=((4-5)**2 +(9-10)**2)**0.5=1.411"
   ]
  },
  {
   "cell_type": "code",
   "execution_count": null,
   "id": "935348fc",
   "metadata": {},
   "outputs": [],
   "source": [
    "d2,d4,d6 are the 3 nearest neighbors from(4,9)\n",
    "a/c to dataset d2,d4,d6 got fail hence student will be fail"
   ]
  },
  {
   "cell_type": "code",
   "execution_count": null,
   "id": "05097efe",
   "metadata": {},
   "outputs": [],
   "source": [
    "# when to use knn\n",
    "data must be simple and small size\n",
    "\n"
   ]
  },
  {
   "cell_type": "code",
   "execution_count": 2,
   "id": "85420a82",
   "metadata": {},
   "outputs": [
    {
     "data": {
      "text/html": [
       "<div>\n",
       "<style scoped>\n",
       "    .dataframe tbody tr th:only-of-type {\n",
       "        vertical-align: middle;\n",
       "    }\n",
       "\n",
       "    .dataframe tbody tr th {\n",
       "        vertical-align: top;\n",
       "    }\n",
       "\n",
       "    .dataframe thead th {\n",
       "        text-align: right;\n",
       "    }\n",
       "</style>\n",
       "<table border=\"1\" class=\"dataframe\">\n",
       "  <thead>\n",
       "    <tr style=\"text-align: right;\">\n",
       "      <th></th>\n",
       "      <th>preg</th>\n",
       "      <th>glucose</th>\n",
       "      <th>bp</th>\n",
       "      <th>skin</th>\n",
       "      <th>insulin</th>\n",
       "      <th>bmi</th>\n",
       "      <th>pedigree</th>\n",
       "      <th>age</th>\n",
       "      <th>result</th>\n",
       "    </tr>\n",
       "  </thead>\n",
       "  <tbody>\n",
       "    <tr>\n",
       "      <th>0</th>\n",
       "      <td>6</td>\n",
       "      <td>148</td>\n",
       "      <td>72</td>\n",
       "      <td>35</td>\n",
       "      <td>0</td>\n",
       "      <td>33.6</td>\n",
       "      <td>0.627</td>\n",
       "      <td>50</td>\n",
       "      <td>1</td>\n",
       "    </tr>\n",
       "    <tr>\n",
       "      <th>1</th>\n",
       "      <td>1</td>\n",
       "      <td>85</td>\n",
       "      <td>66</td>\n",
       "      <td>29</td>\n",
       "      <td>0</td>\n",
       "      <td>26.6</td>\n",
       "      <td>0.351</td>\n",
       "      <td>31</td>\n",
       "      <td>0</td>\n",
       "    </tr>\n",
       "    <tr>\n",
       "      <th>2</th>\n",
       "      <td>8</td>\n",
       "      <td>183</td>\n",
       "      <td>64</td>\n",
       "      <td>0</td>\n",
       "      <td>0</td>\n",
       "      <td>23.3</td>\n",
       "      <td>0.672</td>\n",
       "      <td>32</td>\n",
       "      <td>1</td>\n",
       "    </tr>\n",
       "    <tr>\n",
       "      <th>3</th>\n",
       "      <td>1</td>\n",
       "      <td>89</td>\n",
       "      <td>66</td>\n",
       "      <td>23</td>\n",
       "      <td>94</td>\n",
       "      <td>28.1</td>\n",
       "      <td>0.167</td>\n",
       "      <td>21</td>\n",
       "      <td>0</td>\n",
       "    </tr>\n",
       "    <tr>\n",
       "      <th>4</th>\n",
       "      <td>0</td>\n",
       "      <td>137</td>\n",
       "      <td>40</td>\n",
       "      <td>35</td>\n",
       "      <td>168</td>\n",
       "      <td>43.1</td>\n",
       "      <td>2.288</td>\n",
       "      <td>33</td>\n",
       "      <td>1</td>\n",
       "    </tr>\n",
       "    <tr>\n",
       "      <th>...</th>\n",
       "      <td>...</td>\n",
       "      <td>...</td>\n",
       "      <td>...</td>\n",
       "      <td>...</td>\n",
       "      <td>...</td>\n",
       "      <td>...</td>\n",
       "      <td>...</td>\n",
       "      <td>...</td>\n",
       "      <td>...</td>\n",
       "    </tr>\n",
       "    <tr>\n",
       "      <th>763</th>\n",
       "      <td>10</td>\n",
       "      <td>101</td>\n",
       "      <td>76</td>\n",
       "      <td>48</td>\n",
       "      <td>180</td>\n",
       "      <td>32.9</td>\n",
       "      <td>0.171</td>\n",
       "      <td>63</td>\n",
       "      <td>0</td>\n",
       "    </tr>\n",
       "    <tr>\n",
       "      <th>764</th>\n",
       "      <td>2</td>\n",
       "      <td>122</td>\n",
       "      <td>70</td>\n",
       "      <td>27</td>\n",
       "      <td>0</td>\n",
       "      <td>36.8</td>\n",
       "      <td>0.340</td>\n",
       "      <td>27</td>\n",
       "      <td>0</td>\n",
       "    </tr>\n",
       "    <tr>\n",
       "      <th>765</th>\n",
       "      <td>5</td>\n",
       "      <td>121</td>\n",
       "      <td>72</td>\n",
       "      <td>23</td>\n",
       "      <td>112</td>\n",
       "      <td>26.2</td>\n",
       "      <td>0.245</td>\n",
       "      <td>30</td>\n",
       "      <td>0</td>\n",
       "    </tr>\n",
       "    <tr>\n",
       "      <th>766</th>\n",
       "      <td>1</td>\n",
       "      <td>126</td>\n",
       "      <td>60</td>\n",
       "      <td>0</td>\n",
       "      <td>0</td>\n",
       "      <td>30.1</td>\n",
       "      <td>0.349</td>\n",
       "      <td>47</td>\n",
       "      <td>1</td>\n",
       "    </tr>\n",
       "    <tr>\n",
       "      <th>767</th>\n",
       "      <td>1</td>\n",
       "      <td>93</td>\n",
       "      <td>70</td>\n",
       "      <td>31</td>\n",
       "      <td>0</td>\n",
       "      <td>30.4</td>\n",
       "      <td>0.315</td>\n",
       "      <td>23</td>\n",
       "      <td>0</td>\n",
       "    </tr>\n",
       "  </tbody>\n",
       "</table>\n",
       "<p>768 rows × 9 columns</p>\n",
       "</div>"
      ],
      "text/plain": [
       "     preg  glucose  bp  skin  insulin   bmi  pedigree  age  result\n",
       "0       6      148  72    35        0  33.6     0.627   50       1\n",
       "1       1       85  66    29        0  26.6     0.351   31       0\n",
       "2       8      183  64     0        0  23.3     0.672   32       1\n",
       "3       1       89  66    23       94  28.1     0.167   21       0\n",
       "4       0      137  40    35      168  43.1     2.288   33       1\n",
       "..    ...      ...  ..   ...      ...   ...       ...  ...     ...\n",
       "763    10      101  76    48      180  32.9     0.171   63       0\n",
       "764     2      122  70    27        0  36.8     0.340   27       0\n",
       "765     5      121  72    23      112  26.2     0.245   30       0\n",
       "766     1      126  60     0        0  30.1     0.349   47       1\n",
       "767     1       93  70    31        0  30.4     0.315   23       0\n",
       "\n",
       "[768 rows x 9 columns]"
      ]
     },
     "execution_count": 2,
     "metadata": {},
     "output_type": "execute_result"
    }
   ],
   "source": [
    "import pandas as pd\n",
    "df=pd.read_csv('C:\\\\Users\\\\Sweta\\\\Desktop\\\\python\\\\Data Science\\\\pima.csv',\\\n",
    "               names=['preg','glucose','bp','skin','insulin','bmi','pedigree','age','result'])\n",
    "df"
   ]
  },
  {
   "cell_type": "code",
   "execution_count": 3,
   "id": "76d630f7",
   "metadata": {},
   "outputs": [
    {
     "data": {
      "text/plain": [
       "(768, 9)"
      ]
     },
     "execution_count": 3,
     "metadata": {},
     "output_type": "execute_result"
    }
   ],
   "source": [
    "df.shape"
   ]
  },
  {
   "cell_type": "code",
   "execution_count": 5,
   "id": "362c1d20",
   "metadata": {},
   "outputs": [
    {
     "data": {
      "text/plain": [
       "result\n",
       "0    500\n",
       "1    268\n",
       "Name: count, dtype: int64"
      ]
     },
     "execution_count": 5,
     "metadata": {},
     "output_type": "execute_result"
    }
   ],
   "source": [
    "#display how no of people suffering from diabetes or not\n",
    "df['result'].value_counts()"
   ]
  },
  {
   "cell_type": "code",
   "execution_count": 6,
   "id": "32e4a802",
   "metadata": {},
   "outputs": [
    {
     "data": {
      "text/plain": [
       "<Axes: xlabel='result', ylabel='count'>"
      ]
     },
     "execution_count": 6,
     "metadata": {},
     "output_type": "execute_result"
    },
    {
     "data": {
      "image/png": "[encoded data removed]",
      "text/plain": [
       "<Figure size 640x480 with 1 Axes>"
      ]
     },
     "metadata": {},
     "output_type": "display_data"
    }
   ],
   "source": [
    "import seaborn as sns\n",
    "sns.countplot(x=df['result'])"
   ]
  },
  {
   "cell_type": "code",
   "execution_count": 8,
   "id": "5a5d04d9",
   "metadata": {},
   "outputs": [
    {
     "data": {
      "image/png": "[encoded data removed]",
      "text/plain": [
       "<Figure size 640x480 with 1 Axes>"
      ]
     },
     "metadata": {},
     "output_type": "display_data"
    }
   ],
   "source": [
    "import matplotlib.pyplot as plt\n",
    "plt.pie(df['result'].value_counts(),labels=['yes','no'],autopct=\"%0.2f%%\")\n",
    "plt.show()"
   ]
  },
  {
   "cell_type": "code",
   "execution_count": 9,
   "id": "44bf7f94",
   "metadata": {},
   "outputs": [
    {
     "data": {
      "text/plain": [
       "preg        0\n",
       "glucose     0\n",
       "bp          0\n",
       "skin        0\n",
       "insulin     0\n",
       "bmi         0\n",
       "pedigree    0\n",
       "age         0\n",
       "result      0\n",
       "dtype: int64"
      ]
     },
     "execution_count": 9,
     "metadata": {},
     "output_type": "execute_result"
    }
   ],
   "source": [
    "# handle the missing values\n",
    "df.isnull().sum()"
   ]
  },
  {
   "cell_type": "code",
   "execution_count": 11,
   "id": "8630a0ef",
   "metadata": {},
   "outputs": [
    {
     "name": "stdout",
     "output_type": "stream",
     "text": [
      "5\n",
      "35\n",
      "227\n",
      "374\n",
      "11\n",
      "0\n",
      "0\n"
     ]
    }
   ],
   "source": [
    "#find out 0 values except preg and result\n",
    "print(len(df.loc[df['glucose']==0]))\n",
    "print(len(df.loc[df['bp']==0]))\n",
    "print(len(df.loc[df['skin']==0]))\n",
    "print(len(df.loc[df['insulin']==0]))\n",
    "print(len(df.loc[df['bmi']==0]))\n",
    "print(len(df.loc[df['pedigree']==0]))\n",
    "print(len(df.loc[df['age']==0]))"
   ]
  },
  {
   "cell_type": "code",
   "execution_count": 12,
   "id": "ddcdb31b",
   "metadata": {},
   "outputs": [],
   "source": [
    "#  replace the zero values by median value of that column\n",
    "df['glucose']=df['glucose'].replace(0,df['glucose'].median())\n",
    "df['bp']=df['bp'].replace(0,df['bp'].median())\n",
    "df['skin']=df['skin'].replace(0,df['skin'].median())\n",
    "df['insulin']=df['insulin'].replace(0,df['insulin'].median())\n",
    "df['bmi']=df['bmi'].replace(0,df['bmi'].median())"
   ]
  },
  {
   "cell_type": "code",
   "execution_count": 13,
   "id": "4302cf9e",
   "metadata": {},
   "outputs": [
    {
     "name": "stdout",
     "output_type": "stream",
     "text": [
      "0\n",
      "0\n",
      "0\n",
      "0\n",
      "0\n",
      "0\n",
      "0\n"
     ]
    }
   ],
   "source": [
    "#find out 0 values except preg and result\n",
    "print(len(df.loc[df['glucose']==0]))\n",
    "print(len(df.loc[df['bp']==0]))\n",
    "print(len(df.loc[df['skin']==0]))\n",
    "print(len(df.loc[df['insulin']==0]))\n",
    "print(len(df.loc[df['bmi']==0]))\n",
    "print(len(df.loc[df['pedigree']==0]))\n",
    "print(len(df.loc[df['age']==0]))"
   ]
  },
  {
   "cell_type": "code",
   "execution_count": 14,
   "id": "fc0897aa",
   "metadata": {},
   "outputs": [],
   "source": [
    "# separate input and output\n",
    "X=df.drop(columns=['result'])\n",
    "Y=df['result']"
   ]
  },
  {
   "cell_type": "code",
   "execution_count": 15,
   "id": "ebfebb84",
   "metadata": {},
   "outputs": [],
   "source": [
    "# Split the dataset for training and testing\n",
    "from sklearn.model_selection import train_test_split\n",
    "X_train,X_test,Y_train,Y_test=train_test_split(X,Y,test_size=0.2,random_state=5)"
   ]
  },
  {
   "cell_type": "code",
   "execution_count": 16,
   "id": "4dc7a1ba",
   "metadata": {},
   "outputs": [
    {
     "name": "stdout",
     "output_type": "stream",
     "text": [
      "x-train (614, 8)\n",
      "y-train (614,)\n"
     ]
    }
   ],
   "source": [
    "print(\"x-train\",X_train.shape)\n",
    "print(\"y-train\",Y_train.shape)"
   ]
  },
  {
   "cell_type": "code",
   "execution_count": 18,
   "id": "c84af975",
   "metadata": {},
   "outputs": [
    {
     "name": "stdout",
     "output_type": "stream",
     "text": [
      "x-test (154, 8)\n",
      "y-test (154,)\n"
     ]
    }
   ],
   "source": [
    "print(\"x-test\",X_test.shape)\n",
    "print(\"y-test\",Y_test.shape)"
   ]
  },
  {
   "cell_type": "code",
   "execution_count": 19,
   "id": "21cd1ba2",
   "metadata": {},
   "outputs": [
    {
     "data": {
      "text/plain": [
       "array([0, 0, 0, 0, 0, 0, 1, 1, 1, 0, 0, 0, 0, 0, 0, 1, 0, 1, 0, 0, 0, 1,\n",
       "       0, 1, 0, 0, 0, 1, 0, 1, 0, 0, 1, 0, 0, 0, 0, 0, 0, 0, 0, 1, 0, 1,\n",
       "       0, 1, 0, 0, 0, 1, 1, 0, 1, 0, 0, 0, 0, 0, 1, 0, 1, 0, 1, 0, 0, 0,\n",
       "       0, 1, 0, 1, 1, 0, 0, 1, 0, 1, 0, 1, 1, 0, 1, 1, 1, 1, 0, 0, 0, 0,\n",
       "       0, 0, 1, 0, 0, 1, 0, 1, 1, 0, 0, 0, 0, 0, 1, 1, 0, 0, 0, 0, 1, 0,\n",
       "       0, 1, 0, 0, 0, 0, 0, 0, 0, 0, 1, 0, 0, 0, 1, 0, 0, 0, 0, 0, 0, 0,\n",
       "       1, 0, 0, 1, 0, 0, 1, 0, 0, 1, 1, 0, 0, 1, 0, 0, 0, 0, 0, 0, 0, 1],\n",
       "      dtype=int64)"
      ]
     },
     "execution_count": 19,
     "metadata": {},
     "output_type": "execute_result"
    }
   ],
   "source": [
    "# implement KNN \n",
    "from sklearn.neighbors import KNeighborsClassifier\n",
    "K=KNeighborsClassifier(n_neighbors=5)\n",
    "#train the model\n",
    "K.fit(X_train,Y_train)\n",
    "#test the model\n",
    "Y_pred=K.predict(X_test)\n",
    "Y_pred"
   ]
  },
  {
   "cell_type": "code",
   "execution_count": 20,
   "id": "dcc22182",
   "metadata": {},
   "outputs": [
    {
     "data": {
      "text/plain": [
       "567    0\n",
       "123    0\n",
       "615    0\n",
       "492    0\n",
       "288    0\n",
       "      ..\n",
       "432    0\n",
       "480    1\n",
       "7      0\n",
       "564    0\n",
       "40     0\n",
       "Name: result, Length: 154, dtype: int64"
      ]
     },
     "execution_count": 20,
     "metadata": {},
     "output_type": "execute_result"
    }
   ],
   "source": [
    "Y_test"
   ]
  },
  {
   "cell_type": "code",
   "execution_count": 21,
   "id": "b519bcc4",
   "metadata": {},
   "outputs": [
    {
     "name": "stdout",
     "output_type": "stream",
     "text": [
      "74.68\n"
     ]
    }
   ],
   "source": [
    "# find accuracy\n",
    "from sklearn.metrics import accuracy_score\n",
    "acc=accuracy_score(Y_test,Y_pred)\n",
    "acc=round(acc*100,2)\n",
    "print(acc)"
   ]
  },
  {
   "cell_type": "code",
   "execution_count": 22,
   "id": "a868694c",
   "metadata": {},
   "outputs": [
    {
     "name": "stdout",
     "output_type": "stream",
     "text": [
      "[[84 16]\n",
      " [23 31]]\n"
     ]
    }
   ],
   "source": [
    "#display confusion matrix\n",
    "from sklearn.metrics import confusion_matrix\n",
    "cm=confusion_matrix(Y_test,Y_pred)\n",
    "print(cm)"
   ]
  },
  {
   "cell_type": "code",
   "execution_count": null,
   "id": "0fa59398",
   "metadata": {},
   "outputs": [],
   "source": [
    "   PN PY\n",
    "AN 84 16\n",
    "\n",
    "AY 23 31"
   ]
  },
  {
   "cell_type": "code",
   "execution_count": 23,
   "id": "35c362d7",
   "metadata": {},
   "outputs": [
    {
     "name": "stderr",
     "output_type": "stream",
     "text": [
      "C:\\Users\\Sweta\\AppData\\Roaming\\Python\\Python311\\site-packages\\sklearn\\base.py:464: UserWarning: X does not have valid feature names, but KNeighborsClassifier was fitted with feature names\n",
      "  warnings.warn(\n"
     ]
    },
    {
     "data": {
      "text/plain": [
       "array([1], dtype=int64)"
      ]
     },
     "execution_count": 23,
     "metadata": {},
     "output_type": "execute_result"
    }
   ],
   "source": [
    "# lET'S PREDICT FOR UNKNOWN PERSON\n",
    "data=[[3,130,68,31,0,31.6,0.8,45]]\n",
    "K.predict(data)"
   ]
  },
  {
   "cell_type": "markdown",
   "id": "3c0a1729",
   "metadata": {},
   "source": [
    "0---- no diabete   \\\n",
    "\n",
    "1- diabetes"
   ]
  },
  {
   "cell_type": "code",
   "execution_count": null,
   "id": "8d847736",
   "metadata": {},
   "outputs": [],
   "source": []
  }
 ],
 "metadata": {
  "kernelspec": {
   "display_name": "Python 3 (ipykernel)",
   "language": "python",
   "name": "python3"
  },
  "language_info": {
   "codemirror_mode": {
    "name": "ipython",
    "version": 3
   },
   "file_extension": ".py",
   "mimetype": "text/x-python",
   "name": "python",
   "nbconvert_exporter": "python",
   "pygments_lexer": "ipython3",
   "version": "3.11.4"
  }
 },
 "nbformat": 4,
 "nbformat_minor": 5
}
