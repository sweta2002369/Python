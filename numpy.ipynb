{
 "cells": [
  {
   "cell_type": "code",
   "execution_count": null,
   "id": "c59a122b",
   "metadata": {},
   "outputs": [],
   "source": [
    "numpy ---> numerical Python\n",
    "it is used to represent N- dimensional array and to perform\n",
    "various mathmatical operations..\n",
    "\n",
    "numpy is a 3rd party package.. it is availabel with anaconda\n",
    "\n",
    "numpy takes less memory than list takes less time to execute"
   ]
  },
  {
   "cell_type": "code",
   "execution_count": null,
   "id": "457fa1ee",
   "metadata": {},
   "outputs": [],
   "source": []
  },
  {
   "cell_type": "code",
   "execution_count": 2,
   "id": "b1e3c630",
   "metadata": {},
   "outputs": [
    {
     "name": "stdout",
     "output_type": "stream",
     "text": [
      "[10 20 30 40 50]\n",
      "<class 'numpy.ndarray'>\n",
      "int32\n",
      "1\n",
      "5\n",
      "(5,)\n",
      "4\n",
      "20\n"
     ]
    }
   ],
   "source": [
    "import numpy  as np\n",
    "A=np.array([10,20,30,40,50])\n",
    "print(A)\n",
    "print(type(A))\n",
    "print(A.dtype)#data type of each element\n",
    "print(A.ndim)#dimension\n",
    "print(A.size)# no of elemnts\n",
    "print(A.shape)#no of row and column\n",
    "print(A.itemsize)#size of each element in bytes\n",
    "print(A.nbytes)#total memory taken"
   ]
  },
  {
   "cell_type": "code",
   "execution_count": 6,
   "id": "0984f1ae",
   "metadata": {},
   "outputs": [
    {
     "name": "stdout",
     "output_type": "stream",
     "text": [
      "[10 20 4 list([60, 30])]\n",
      "object\n"
     ]
    }
   ],
   "source": [
    "# numpy is homogeneous\n",
    "b= np.array([[10,20,4],[60,30]],dtype=object)\n",
    "print(b)\n",
    "print(b.dtype)"
   ]
  },
  {
   "cell_type": "code",
   "execution_count": 9,
   "id": "58ee09cb",
   "metadata": {},
   "outputs": [
    {
     "name": "stdout",
     "output_type": "stream",
     "text": [
      "[[10 20]\n",
      " [10 20]\n",
      " [60 30]]\n",
      "<class 'numpy.ndarray'>\n",
      "object\n",
      "2\n",
      "6\n",
      "(3, 2)\n",
      "8\n",
      "48\n"
     ]
    }
   ],
   "source": [
    "import numpy  as np\n",
    "A=np.array([[10,20],[10,20],[60,30]],dtype=object)\n",
    "print(A)\n",
    "print(type(A))\n",
    "print(A.dtype)#data type of each element\n",
    "print(A.ndim)#dimension\n",
    "print(A.size)# no of elemnts\n",
    "print(A.shape)#no of row and column\n",
    "print(A.itemsize)#size of each element in bytes\n",
    "print(A.nbytes)#total memory taken"
   ]
  },
  {
   "cell_type": "code",
   "execution_count": 11,
   "id": "4a965a8f",
   "metadata": {},
   "outputs": [
    {
     "name": "stdout",
     "output_type": "stream",
     "text": [
      "1\n",
      "2\n",
      "4\n",
      "8\n"
     ]
    }
   ],
   "source": [
    "import numpy as np\n",
    "A=np.array([10,20,30,40,50],dtype=np.int8)\n",
    "B=np.array([10,20,30,40,50],dtype=np.int16)\n",
    "C=np.array([10,20,30,40,50],dtype=np.int32)#default\n",
    "D=np.array([10,20,30,40,50],dtype=np.int64)\n",
    "print(A.itemsize)\n",
    "print(B.itemsize)\n",
    "print(C.itemsize)\n",
    "print(D.itemsize)"
   ]
  },
  {
   "cell_type": "code",
   "execution_count": 14,
   "id": "97c4fa57",
   "metadata": {},
   "outputs": [
    {
     "name": "stdout",
     "output_type": "stream",
     "text": [
      "[ 10  40  90 160]\n",
      "[11 22 33 44]\n"
     ]
    }
   ],
   "source": [
    "#some basic mathmatical Opration\n",
    "import numpy as np\n",
    "A=np.array([10,20,30,40])\n",
    "B=np.array([1,2,3,4])\n",
    "c=A+B\n",
    "d=A*B\n",
    "print(d)\n",
    "print(c)"
   ]
  },
  {
   "cell_type": "code",
   "execution_count": null,
   "id": "790ca745",
   "metadata": {},
   "outputs": [],
   "source": [
    "#[row slicing ,column slicing]\n",
    "[start:stop:step ,start:stop:step]"
   ]
  },
  {
   "cell_type": "code",
   "execution_count": 15,
   "id": "7a14b548",
   "metadata": {},
   "outputs": [
    {
     "name": "stdout",
     "output_type": "stream",
     "text": [
      "[[10 20 30]\n",
      " [40 50 60]\n",
      " [70 80 90]]\n"
     ]
    }
   ],
   "source": [
    "import numpy as np\n",
    "c=np.array([[10,20,30],[40,50,60],[70,80,90]])\n",
    "print(c)"
   ]
  },
  {
   "cell_type": "code",
   "execution_count": 20,
   "id": "062feef5",
   "metadata": {},
   "outputs": [
    {
     "name": "stdout",
     "output_type": "stream",
     "text": [
      "[[10 30]\n",
      " [70 90]]\n"
     ]
    }
   ],
   "source": [
    "print(c[0::2,0::2])"
   ]
  },
  {
   "cell_type": "code",
   "execution_count": 21,
   "id": "341c5f2c",
   "metadata": {},
   "outputs": [
    {
     "data": {
      "text/plain": [
       "4"
      ]
     },
     "execution_count": 21,
     "metadata": {},
     "output_type": "execute_result"
    }
   ],
   "source": [
    "# some basic mathmatical functions\n",
    "import numpy as np\n",
    "a=np.array([1,2,3,4])\n",
    "np.max(a)"
   ]
  },
  {
   "cell_type": "code",
   "execution_count": 22,
   "id": "89504274",
   "metadata": {},
   "outputs": [
    {
     "data": {
      "text/plain": [
       "10"
      ]
     },
     "execution_count": 22,
     "metadata": {},
     "output_type": "execute_result"
    }
   ],
   "source": [
    "np.min(a)\n",
    "np.sum(a)"
   ]
  },
  {
   "cell_type": "code",
   "execution_count": 23,
   "id": "4e622968",
   "metadata": {},
   "outputs": [
    {
     "data": {
      "text/plain": [
       "array([ 0.84147098,  0.90929743,  0.14112001, -0.7568025 ])"
      ]
     },
     "execution_count": 23,
     "metadata": {},
     "output_type": "execute_result"
    }
   ],
   "source": [
    "np.sin(a)"
   ]
  },
  {
   "cell_type": "code",
   "execution_count": 24,
   "id": "7dfe6b16",
   "metadata": {},
   "outputs": [
    {
     "name": "stdout",
     "output_type": "stream",
     "text": [
      "[[11 22 33]\n",
      " [44 55 66]\n",
      " [77 88 99]]\n"
     ]
    }
   ],
   "source": [
    "#wap to add 2 matrix using numpy array\n",
    "import numpy as np\n",
    "A=np.array([[10,20,30],[40,50,60],[70,80,90]])\n",
    "B=np.array([[1,2,3],[4,5,6],[7,8,9]])\n",
    "c=A+B\n",
    "print(c)\n"
   ]
  },
  {
   "cell_type": "code",
   "execution_count": 25,
   "id": "f6e14ce5",
   "metadata": {},
   "outputs": [
    {
     "name": "stdout",
     "output_type": "stream",
     "text": [
      "[[ 10  40  90]\n",
      " [160 250 360]\n",
      " [490 640 810]]\n"
     ]
    }
   ],
   "source": [
    "print(A*B)"
   ]
  },
  {
   "cell_type": "code",
   "execution_count": 26,
   "id": "f4b30b69",
   "metadata": {},
   "outputs": [
    {
     "data": {
      "text/plain": [
       "array([[10, 40, 70],\n",
       "       [20, 50, 80],\n",
       "       [30, 60, 90]])"
      ]
     },
     "execution_count": 26,
     "metadata": {},
     "output_type": "execute_result"
    }
   ],
   "source": [
    "A.T# transpose"
   ]
  },
  {
   "cell_type": "code",
   "execution_count": null,
   "id": "9f3f2372",
   "metadata": {},
   "outputs": [],
   "source": [
    "#arange()\n",
    "range() creates a list\n",
    "arange(start,stop,step) creates numpy array\n"
   ]
  },
  {
   "cell_type": "code",
   "execution_count": 27,
   "id": "57556511",
   "metadata": {},
   "outputs": [
    {
     "name": "stdout",
     "output_type": "stream",
     "text": [
      "[1 2 3 4 5]\n"
     ]
    }
   ],
   "source": [
    "import numpy as np\n",
    "s=np.arange(1,6)\n",
    "print(s)"
   ]
  },
  {
   "cell_type": "code",
   "execution_count": null,
   "id": "fa87fead",
   "metadata": {},
   "outputs": [],
   "source": [
    "# linspace()------ it creates a numpy array where the distance between 2 consecutives is sm\n",
    "linspace(start,stop,distace)\n",
    "by default distance is 0"
   ]
  },
  {
   "cell_type": "code",
   "execution_count": 1,
   "id": "d1728360",
   "metadata": {},
   "outputs": [
    {
     "data": {
      "text/plain": [
       "array([10. , 12.5, 15. , 17.5, 20. ])"
      ]
     },
     "execution_count": 1,
     "metadata": {},
     "output_type": "execute_result"
    }
   ],
   "source": [
    "import numpy as np\n",
    "np.linspace(10,20,5)"
   ]
  },
  {
   "cell_type": "code",
   "execution_count": 5,
   "id": "c800e558",
   "metadata": {},
   "outputs": [
    {
     "data": {
      "text/plain": [
       "array([ 5.        ,  6.02040816,  7.04081633,  8.06122449,  9.08163265,\n",
       "       10.10204082, 11.12244898, 12.14285714, 13.16326531, 14.18367347,\n",
       "       15.20408163, 16.2244898 , 17.24489796, 18.26530612, 19.28571429,\n",
       "       20.30612245, 21.32653061, 22.34693878, 23.36734694, 24.3877551 ,\n",
       "       25.40816327, 26.42857143, 27.44897959, 28.46938776, 29.48979592,\n",
       "       30.51020408, 31.53061224, 32.55102041, 33.57142857, 34.59183673,\n",
       "       35.6122449 , 36.63265306, 37.65306122, 38.67346939, 39.69387755,\n",
       "       40.71428571, 41.73469388, 42.75510204, 43.7755102 , 44.79591837,\n",
       "       45.81632653, 46.83673469, 47.85714286, 48.87755102, 49.89795918,\n",
       "       50.91836735, 51.93877551, 52.95918367, 53.97959184, 55.        ])"
      ]
     },
     "execution_count": 5,
     "metadata": {},
     "output_type": "execute_result"
    }
   ],
   "source": [
    "import numpy as np\n",
    "np.linspace(5,55)"
   ]
  },
  {
   "cell_type": "code",
   "execution_count": 2,
   "id": "f7466e07",
   "metadata": {},
   "outputs": [
    {
     "data": {
      "text/plain": [
       "array([0., 0., 0., 0., 0.])"
      ]
     },
     "execution_count": 2,
     "metadata": {},
     "output_type": "execute_result"
    }
   ],
   "source": [
    "import numpy as np\n",
    "np.zeros(5)"
   ]
  },
  {
   "cell_type": "code",
   "execution_count": 3,
   "id": "4c3dcd0b",
   "metadata": {},
   "outputs": [
    {
     "data": {
      "text/plain": [
       "array([0, 0, 0, 0, 0])"
      ]
     },
     "execution_count": 3,
     "metadata": {},
     "output_type": "execute_result"
    }
   ],
   "source": [
    "import numpy as np\n",
    "np.zeros(5,dtype=int)"
   ]
  },
  {
   "cell_type": "code",
   "execution_count": 4,
   "id": "de916bc0",
   "metadata": {},
   "outputs": [
    {
     "data": {
      "text/plain": [
       "array([[0, 0, 0],\n",
       "       [0, 0, 0]])"
      ]
     },
     "execution_count": 4,
     "metadata": {},
     "output_type": "execute_result"
    }
   ],
   "source": [
    "import numpy as np\n",
    "np.zeros((2,3),dtype=int)"
   ]
  },
  {
   "cell_type": "code",
   "execution_count": 6,
   "id": "da9cfc54",
   "metadata": {},
   "outputs": [
    {
     "data": {
      "text/plain": [
       "array([False, False, False, False, False])"
      ]
     },
     "execution_count": 6,
     "metadata": {},
     "output_type": "execute_result"
    }
   ],
   "source": [
    "np.zeros(5,dtype=bool)"
   ]
  },
  {
   "cell_type": "code",
   "execution_count": 7,
   "id": "149d35f3",
   "metadata": {},
   "outputs": [
    {
     "data": {
      "text/plain": [
       "array([1, 1, 1, 1, 1])"
      ]
     },
     "execution_count": 7,
     "metadata": {},
     "output_type": "execute_result"
    }
   ],
   "source": [
    "#ones --- this array contains only ones\n",
    "import numpy as np\n",
    "np.ones(5,dtype=int)"
   ]
  },
  {
   "cell_type": "code",
   "execution_count": 9,
   "id": "ade38d77",
   "metadata": {},
   "outputs": [
    {
     "data": {
      "text/plain": [
       "array([ True,  True,  True,  True,  True])"
      ]
     },
     "execution_count": 9,
     "metadata": {},
     "output_type": "execute_result"
    }
   ],
   "source": [
    "import numpy as np\n",
    "np.ones(5,dtype=bool)"
   ]
  },
  {
   "cell_type": "code",
   "execution_count": null,
   "id": "38465641",
   "metadata": {},
   "outputs": [],
   "source": [
    "# how to concatenate 2 numpy array"
   ]
  },
  {
   "cell_type": "code",
   "execution_count": 10,
   "id": "e3d01ca8",
   "metadata": {},
   "outputs": [
    {
     "data": {
      "text/plain": [
       "array([11, 22])"
      ]
     },
     "execution_count": 10,
     "metadata": {},
     "output_type": "execute_result"
    }
   ],
   "source": [
    "import numpy as np\n",
    "a=np.array([10,20])\n",
    "b=np.array([1,2])\n",
    "a+b"
   ]
  },
  {
   "cell_type": "code",
   "execution_count": 11,
   "id": "2c3c4000",
   "metadata": {},
   "outputs": [
    {
     "data": {
      "text/plain": [
       "array([10, 20,  1,  2])"
      ]
     },
     "execution_count": 11,
     "metadata": {},
     "output_type": "execute_result"
    }
   ],
   "source": [
    "np.concatenate([a,b])"
   ]
  },
  {
   "cell_type": "code",
   "execution_count": null,
   "id": "e4a32be4",
   "metadata": {},
   "outputs": [],
   "source": [
    "#reshape() --- convert from 1 shape to another"
   ]
  },
  {
   "cell_type": "code",
   "execution_count": 12,
   "id": "fb2c9234",
   "metadata": {},
   "outputs": [
    {
     "name": "stdout",
     "output_type": "stream",
     "text": [
      "[1 2 3 4 5 6 7 8 9]\n"
     ]
    }
   ],
   "source": [
    "import numpy as np\n",
    "a=np.arange(1,10)\n",
    "print(a)"
   ]
  },
  {
   "cell_type": "code",
   "execution_count": null,
   "id": "71149408",
   "metadata": {},
   "outputs": [],
   "source": []
  },
  {
   "cell_type": "code",
   "execution_count": 13,
   "id": "a1c036c6",
   "metadata": {},
   "outputs": [
    {
     "name": "stdout",
     "output_type": "stream",
     "text": [
      "[[1 2 3]\n",
      " [4 5 6]\n",
      " [7 8 9]]\n"
     ]
    }
   ],
   "source": [
    "b=a.reshape(3,3)\n",
    "print(b)"
   ]
  },
  {
   "cell_type": "code",
   "execution_count": 14,
   "id": "8166d6bf",
   "metadata": {},
   "outputs": [
    {
     "data": {
      "text/plain": [
       "array([1, 2, 3, 4, 5, 6, 7, 8, 9])"
      ]
     },
     "execution_count": 14,
     "metadata": {},
     "output_type": "execute_result"
    }
   ],
   "source": [
    "b.reshape(-1)# convert 1 dimension"
   ]
  },
  {
   "cell_type": "code",
   "execution_count": null,
   "id": "a6b5275f",
   "metadata": {},
   "outputs": [],
   "source": [
    "# what is the difference between (1,-1) and reshape(-1,1)\n",
    "reshape(1,-1)---- 1 row and column wil be decided from sizeof array\n",
    "reshape(-1,1)---- 1 column and row wil be decided from sizeof array"
   ]
  },
  {
   "cell_type": "code",
   "execution_count": 15,
   "id": "2ff4cbe7",
   "metadata": {},
   "outputs": [
    {
     "name": "stdout",
     "output_type": "stream",
     "text": [
      "[[1 2 3]\n",
      " [4 5 6]\n",
      " [7 8 9]]\n"
     ]
    }
   ],
   "source": [
    "import numpy as np\n",
    "a=np.arange(1,10).reshape(3,3)\n",
    "print(a)\n"
   ]
  },
  {
   "cell_type": "code",
   "execution_count": 16,
   "id": "56c578f7",
   "metadata": {},
   "outputs": [
    {
     "data": {
      "text/plain": [
       "array([[1, 2, 3, 4, 5, 6, 7, 8, 9]])"
      ]
     },
     "execution_count": 16,
     "metadata": {},
     "output_type": "execute_result"
    }
   ],
   "source": [
    "a.reshape(1,-1)# 1 row and (size of array) 9 columns"
   ]
  },
  {
   "cell_type": "code",
   "execution_count": 17,
   "id": "2485c57a",
   "metadata": {},
   "outputs": [
    {
     "data": {
      "text/plain": [
       "array([[1],\n",
       "       [2],\n",
       "       [3],\n",
       "       [4],\n",
       "       [5],\n",
       "       [6],\n",
       "       [7],\n",
       "       [8],\n",
       "       [9]])"
      ]
     },
     "execution_count": 17,
     "metadata": {},
     "output_type": "execute_result"
    }
   ],
   "source": [
    "a.reshape(-1,1)"
   ]
  },
  {
   "cell_type": "code",
   "execution_count": 18,
   "id": "c4486a37",
   "metadata": {},
   "outputs": [
    {
     "name": "stdout",
     "output_type": "stream",
     "text": [
      "[[1 2 3]\n",
      " [4 5 6]\n",
      " [7 8 9]]\n"
     ]
    }
   ],
   "source": [
    "# ravel()--- converts into 1 dimension \n",
    "import numpy as np\n",
    "A=np.arange(1,10).reshape(3,3)\n",
    "print(A)"
   ]
  },
  {
   "cell_type": "code",
   "execution_count": 19,
   "id": "91d74f28",
   "metadata": {},
   "outputs": [
    {
     "data": {
      "text/plain": [
       "array([1, 2, 3, 4, 5, 6, 7, 8, 9])"
      ]
     },
     "execution_count": 19,
     "metadata": {},
     "output_type": "execute_result"
    }
   ],
   "source": [
    "a.ravel()"
   ]
  },
  {
   "cell_type": "code",
   "execution_count": 20,
   "id": "fa27633d",
   "metadata": {},
   "outputs": [
    {
     "data": {
      "text/plain": [
       "array([1, 2, 3, 4, 5, 6, 7, 8, 9])"
      ]
     },
     "execution_count": 20,
     "metadata": {},
     "output_type": "execute_result"
    }
   ],
   "source": [
    "a.flatten()"
   ]
  },
  {
   "cell_type": "code",
   "execution_count": 21,
   "id": "db4c969d",
   "metadata": {},
   "outputs": [
    {
     "name": "stdout",
     "output_type": "stream",
     "text": [
      "[[1 2 3]\n",
      " [4 5 6]\n",
      " [7 8 9]]\n"
     ]
    }
   ],
   "source": [
    "# trigonometric functions\n",
    "import numpy as np\n",
    "d=np.arange(10,20,0.5)\n",
    "print(a)"
   ]
  },
  {
   "cell_type": "code",
   "execution_count": 22,
   "id": "d3c84800",
   "metadata": {},
   "outputs": [
    {
     "data": {
      "text/plain": [
       "array([-0.54402111, -0.87969576, -0.99999021, -0.87545217, -0.53657292,\n",
       "       -0.0663219 ,  0.42016704,  0.80378443,  0.99060736,  0.93489506,\n",
       "        0.65028784,  0.20646748, -0.28790332, -0.71178534, -0.96139749,\n",
       "       -0.97562601, -0.75098725, -0.34248062,  0.14987721,  0.60553987])"
      ]
     },
     "execution_count": 22,
     "metadata": {},
     "output_type": "execute_result"
    }
   ],
   "source": [
    "np.sin(d)"
   ]
  },
  {
   "cell_type": "code",
   "execution_count": 25,
   "id": "5b1ae4ff",
   "metadata": {},
   "outputs": [
    {
     "data": {
      "image/png": "[encoded data removed]",
      "text/plain": [
       "<Figure size 640x480 with 1 Axes>"
      ]
     },
     "metadata": {},
     "output_type": "display_data"
    }
   ],
   "source": [
    "import matplotlib.pyplot as plt\n",
    "plt.plot(d,np.sin(d))\n",
    "plt.plot(d,np.sin(d))\n",
    "plt.show()"
   ]
  },
  {
   "cell_type": "code",
   "execution_count": 26,
   "id": "07ca1070",
   "metadata": {},
   "outputs": [
    {
     "data": {
      "image/png": "[encoded data removed]",
      "text/plain": [
       "<Figure size 640x480 with 1 Axes>"
      ]
     },
     "metadata": {},
     "output_type": "display_data"
    }
   ],
   "source": [
    "import matplotlib.pyplot as plt\n",
    "plt.plot(d,np.sin(d))\n",
    "plt.plot(d,np.tan(d))\n",
    "plt.show()"
   ]
  },
  {
   "cell_type": "code",
   "execution_count": null,
   "id": "04ba0960",
   "metadata": {},
   "outputs": [],
   "source": [
    "random() -- generates random value between 0-1"
   ]
  },
  {
   "cell_type": "code",
   "execution_count": 28,
   "id": "2c7fba84",
   "metadata": {},
   "outputs": [
    {
     "data": {
      "text/plain": [
       "0.2876176151163292"
      ]
     },
     "execution_count": 28,
     "metadata": {},
     "output_type": "execute_result"
    }
   ],
   "source": [
    "from numpy import random\n",
    "random.random()"
   ]
  },
  {
   "cell_type": "code",
   "execution_count": 29,
   "id": "31bb4817",
   "metadata": {},
   "outputs": [
    {
     "data": {
      "text/plain": [
       "array([0.58152326, 0.44003111, 0.69875431, 0.52901727, 0.28432606])"
      ]
     },
     "execution_count": 29,
     "metadata": {},
     "output_type": "execute_result"
    }
   ],
   "source": [
    "random.random(5)"
   ]
  },
  {
   "cell_type": "code",
   "execution_count": 30,
   "id": "54f40b34",
   "metadata": {},
   "outputs": [
    {
     "data": {
      "text/plain": [
       "array([[0.76693555, 0.91214471, 0.87875346],\n",
       "       [0.66623563, 0.04264087, 0.7243975 ]])"
      ]
     },
     "execution_count": 30,
     "metadata": {},
     "output_type": "execute_result"
    }
   ],
   "source": [
    "random.random([2,3])"
   ]
  },
  {
   "cell_type": "code",
   "execution_count": null,
   "id": "fbb03fde",
   "metadata": {},
   "outputs": [],
   "source": [
    "# randint() --- it generates random value between 2 nos"
   ]
  },
  {
   "cell_type": "code",
   "execution_count": 31,
   "id": "cf3cd335",
   "metadata": {},
   "outputs": [
    {
     "data": {
      "text/plain": [
       "10"
      ]
     },
     "execution_count": 31,
     "metadata": {},
     "output_type": "execute_result"
    }
   ],
   "source": [
    "from numpy import random \n",
    "random.randint(10,20)"
   ]
  },
  {
   "cell_type": "code",
   "execution_count": 32,
   "id": "ac82e78f",
   "metadata": {},
   "outputs": [
    {
     "data": {
      "text/plain": [
       "array([[11, 17, 12],\n",
       "       [16, 19, 16]])"
      ]
     },
     "execution_count": 32,
     "metadata": {},
     "output_type": "execute_result"
    }
   ],
   "source": [
    "random.randint(10,20,(2,3))"
   ]
  },
  {
   "cell_type": "code",
   "execution_count": null,
   "id": "3bfc11e4",
   "metadata": {},
   "outputs": [],
   "source": [
    "# rand()--- it generates random value btween 0-1"
   ]
  },
  {
   "cell_type": "code",
   "execution_count": 33,
   "id": "9be901c7",
   "metadata": {},
   "outputs": [
    {
     "data": {
      "text/plain": [
       "array([[0.92636145, 0.01266642, 0.92348088],\n",
       "       [0.64848971, 0.31614771, 0.06926428]])"
      ]
     },
     "execution_count": 33,
     "metadata": {},
     "output_type": "execute_result"
    }
   ],
   "source": [
    "from numpy import random\n",
    "random.rand(2,3)"
   ]
  },
  {
   "cell_type": "code",
   "execution_count": null,
   "id": "426f6f8e",
   "metadata": {},
   "outputs": [],
   "source": [
    "# seed() ---- generates the sm random values"
   ]
  },
  {
   "cell_type": "code",
   "execution_count": 38,
   "id": "bcf47c2f",
   "metadata": {},
   "outputs": [
    {
     "data": {
      "text/plain": [
       "array([17, 15, 11, 18])"
      ]
     },
     "execution_count": 38,
     "metadata": {},
     "output_type": "execute_result"
    }
   ],
   "source": [
    "from numpy import random\n",
    "random.seed(4)\n",
    "random.randint(10,20,4)"
   ]
  },
  {
   "cell_type": "code",
   "execution_count": 36,
   "id": "0b3d6842",
   "metadata": {},
   "outputs": [
    {
     "data": {
      "text/plain": [
       "10"
      ]
     },
     "execution_count": 36,
     "metadata": {},
     "output_type": "execute_result"
    }
   ],
   "source": [
    "# choice() -- generates arandom value from asequence\n",
    "from numpy import random\n",
    "random.choice([10,20,30,40,50])"
   ]
  },
  {
   "cell_type": "code",
   "execution_count": 37,
   "id": "90e63e23",
   "metadata": {},
   "outputs": [
    {
     "data": {
      "text/plain": [
       "array([10, 40, 30, 20, 50])"
      ]
     },
     "execution_count": 37,
     "metadata": {},
     "output_type": "execute_result"
    }
   ],
   "source": [
    "#permutation () -- rearranges the elements // shuffles elements\n",
    "from numpy import random \n",
    "random.seed(7)\n",
    "random.permutation([10,20,30,40,50])"
   ]
  },
  {
   "cell_type": "code",
   "execution_count": null,
   "id": "a81939ca",
   "metadata": {},
   "outputs": [],
   "source": []
  }
 ],
 "metadata": {
  "kernelspec": {
   "display_name": "Python 3 (ipykernel)",
   "language": "python",
   "name": "python3"
  },
  "language_info": {
   "codemirror_mode": {
    "name": "ipython",
    "version": 3
   },
   "file_extension": ".py",
   "mimetype": "text/x-python",
   "name": "python",
   "nbconvert_exporter": "python",
   "pygments_lexer": "ipython3",
   "version": "3.11.4"
  }
 },
 "nbformat": 4,
 "nbformat_minor": 5
}
